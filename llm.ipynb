{
 "cells": [
  {
   "cell_type": "code",
   "execution_count": 1,
   "metadata": {},
   "outputs": [],
   "source": [
    "import glob\n",
    "import json\n",
    "transcript_file_list = glob.glob('.\\\\transcript\\\\L*EN.json')\n",
    "texts = []\n",
    "for file in transcript_file_list:\n",
    "    temp = ''\n",
    "    with open(file, 'r', encoding='utf-8') as f:\n",
    "        data = json.load(f)    \n",
    "    for segment in data:\n",
    "        temp += segment['text'] + ' '   \n",
    "    texts.append([file.rsplit('\\\\', 1)[1][:-8], temp])"
   ]
  },
  {
   "cell_type": "code",
   "execution_count": 2,
   "metadata": {},
   "outputs": [
    {
     "name": "stderr",
     "output_type": "stream",
     "text": [
      "100%|██████████| 363/363 [1:09:43<00:00, 11.52s/it]\n"
     ]
    }
   ],
   "source": [
    "import ollama\n",
    "from tqdm import tqdm\n",
    "summaries = []\n",
    "for filename, text in tqdm(texts):\n",
    "    while True:\n",
    "        response = ollama.chat(model='llama3.1', messages=[\n",
    "            {\n",
    "            'role': 'user',\n",
    "            'content': \n",
    "        \"\"\"\n",
    "        Summarize the news video from the transcript below.\n",
    "        Transcript:\n",
    "        \"\"\"\n",
    "        + text,\n",
    "            },\n",
    "        ])\n",
    "        if len(response['message']['content']) >= 1500:\n",
    "            break\n",
    "    summaries.append([filename, response['message']['content']])"
   ]
  },
  {
   "cell_type": "code",
   "execution_count": 3,
   "metadata": {},
   "outputs": [],
   "source": [
    "with open('summaries.json', 'w', encoding='utf-8') as f:\n",
    "    json.dump(summaries, f, ensure_ascii=False, indent=4)"
   ]
  }
 ],
 "metadata": {
  "kernelspec": {
   "display_name": "Python 3",
   "language": "python",
   "name": "python3"
  },
  "language_info": {
   "codemirror_mode": {
    "name": "ipython",
    "version": 3
   },
   "file_extension": ".py",
   "mimetype": "text/x-python",
   "name": "python",
   "nbconvert_exporter": "python",
   "pygments_lexer": "ipython3",
   "version": "3.11.9"
  }
 },
 "nbformat": 4,
 "nbformat_minor": 2
}
