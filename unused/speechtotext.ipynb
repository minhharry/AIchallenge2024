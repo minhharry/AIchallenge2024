{
 "cells": [
  {
   "cell_type": "code",
   "execution_count": null,
   "metadata": {},
   "outputs": [],
   "source": [
    "import whisper_timestamped\n",
    "\n",
    "DEBUG = False\n",
    "VIDEO_PATH = 'E:\\\\Downloads\\\\atm24949_withsound\\\\video\\\\L01_V014.mp4'\n",
    "\n",
    "output = whisper_timestamped.transcribe('small', VIDEO_PATH, language='vi')\n"
   ]
  },
  {
   "cell_type": "code",
   "execution_count": null,
   "metadata": {},
   "outputs": [],
   "source": [
    "import json\n",
    "with open(\"L01_V001.json\", \"w\", encoding='utf8') as outfile: \n",
    "    json.dump(output, outfile, indent=4, ensure_ascii=False)"
   ]
  },
  {
   "cell_type": "code",
   "execution_count": null,
   "metadata": {},
   "outputs": [],
   "source": [
    "if DEBUG:\n",
    "    for segment in output['segments']:\n",
    "        for word in segment['words']:\n",
    "            print(word['text'], word['start'], word['end'])"
   ]
  },
  {
   "cell_type": "code",
   "execution_count": null,
   "metadata": {},
   "outputs": [],
   "source": [
    "data = []"
   ]
  },
  {
   "cell_type": "code",
   "execution_count": null,
   "metadata": {},
   "outputs": [],
   "source": [
    "for segment in output['segments']:\n",
    "    data.append(\n",
    "        {\n",
    "            'text': segment['text'],\n",
    "            'start': segment['start'],\n",
    "            'duration': segment['end'] - segment['start']\n",
    "        }\n",
    "    )"
   ]
  },
  {
   "cell_type": "code",
   "execution_count": null,
   "metadata": {},
   "outputs": [],
   "source": [
    "data"
   ]
  }
 ],
 "metadata": {
  "kernelspec": {
   "display_name": "Python 3",
   "language": "python",
   "name": "python3"
  },
  "language_info": {
   "codemirror_mode": {
    "name": "ipython",
    "version": 3
   },
   "file_extension": ".py",
   "mimetype": "text/x-python",
   "name": "python",
   "nbconvert_exporter": "python",
   "pygments_lexer": "ipython3",
   "version": "3.11.9"
  }
 },
 "nbformat": 4,
 "nbformat_minor": 2
}
