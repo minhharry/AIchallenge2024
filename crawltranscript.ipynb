{
 "cells": [
  {
   "cell_type": "code",
   "execution_count": null,
   "metadata": {},
   "outputs": [],
   "source": [
    "import pandas as pd\n",
    "import json\n",
    "\n",
    "def json_to_dataframe(file_path):\n",
    "    \"\"\"Converts a JSON file to a Pandas DataFrame.\n",
    "\n",
    "    Args:\n",
    "        file_path: The path to the JSON file.aaaa\n",
    "\n",
    "    Returns:\n",
    "        A Pandas DataFrame.\n",
    "    \"\"\"\n",
    "\n",
    "    with open(file_path, 'r', encoding='utf-8') as f:\n",
    "        data = json.load(f)\n",
    "        video_id = data['watch_url'].split('=')[-1]\n",
    "        data['video_id'] = video_id \n",
    "        df = pd.DataFrame([data])\n",
    "    return df\n",
    "\n",
    "directory_path = 'media-info'  \n",
    "\n",
    "all_dataframes = []\n",
    "\n",
    "import os\n",
    "for filename in os.listdir(directory_path):\n",
    "    if filename.endswith('.json'):\n",
    "        file_path = os.path.join(directory_path, filename)\n",
    "        df = json_to_dataframe(file_path)\n",
    "        df['filename'] = filename\n",
    "        all_dataframes.append(df)\n",
    "\n",
    "\n",
    "final_df = pd.concat(all_dataframes, ignore_index=True)\n",
    "\n",
    "final_df"
   ]
  },
  {
   "cell_type": "code",
   "execution_count": null,
   "metadata": {},
   "outputs": [],
   "source": [
    "final_df.to_csv('media-info.csv', index=False)"
   ]
  },
  {
   "cell_type": "code",
   "execution_count": null,
   "metadata": {},
   "outputs": [],
   "source": [
    "def split_text(transcript):\n",
    "    result = []\n",
    "    for item in transcript:\n",
    "        words = item['text'].split()\n",
    "        duration_per_word = item['duration'] / len(words)\n",
    "        start_time = item['start']\n",
    "        for word in words:\n",
    "            result.append({\n",
    "                'text': word,\n",
    "                'start': round(start_time, 2),\n",
    "                'duration': round(duration_per_word, 2)\n",
    "            })\n",
    "            start_time += duration_per_word\n",
    "    return result"
   ]
  },
  {
   "cell_type": "code",
   "execution_count": null,
   "metadata": {},
   "outputs": [],
   "source": [
    "import pandas as pd"
   ]
  },
  {
   "cell_type": "code",
   "execution_count": null,
   "metadata": {},
   "outputs": [],
   "source": [
    "df = pd.read_csv('media-info.csv')"
   ]
  },
  {
   "cell_type": "code",
   "execution_count": null,
   "metadata": {},
   "outputs": [],
   "source": [
    "from tqdm.auto import tqdm\n",
    "from youtube_transcript_api import YouTubeTranscriptApi\n",
    "import json\n",
    "\n",
    "err_list = []\n",
    "for index, row in tqdm(df.iterrows()):\n",
    "    print(row['filename'][:-5], row['video_id'])\n",
    "    try:\n",
    "        filename = row['filename'][:-5]\n",
    "        transcript = YouTubeTranscriptApi.get_transcript(row['video_id'], languages=['vi'])\n",
    "        with open('./transcript/' + filename + '_VI.json', 'w', encoding='utf-8') as f:\n",
    "            json.dump(transcript, f, ensure_ascii=False, indent=4)\n",
    "\n",
    "        transcript_list = YouTubeTranscriptApi.list_transcripts(row['video_id'])\n",
    "        transcript = transcript_list.find_transcript(['vi'])\n",
    "        translated_transcript = transcript.translate('en')\n",
    "        with open('./transcript/' + filename + '_EN.json', 'w', encoding='utf-8') as f:\n",
    "            json.dump(translated_transcript.fetch(), f, ensure_ascii=False, indent=4)\n",
    "    except:\n",
    "        print(\"Error:\", row['filename'][:-5], row['video_id'])\n",
    "        err_list.append(row['filename'][:-5])\n",
    "        continue"
   ]
  },
  {
   "cell_type": "code",
   "execution_count": 1,
   "metadata": {},
   "outputs": [],
   "source": [
    "from tqdm.auto import tqdm\n",
    "from youtube_transcript_api import YouTubeTranscriptApi\n",
    "import json\n",
    "\n",
    "row = {}\n",
    "row['filename'] = 'L03_V020.json'\n",
    "row['video_id'] = '82hGUBf6ais'\n",
    "\n",
    "filename = row['filename'][:-5]\n",
    "transcript = YouTubeTranscriptApi.get_transcript(row['video_id'], languages=['vi'])\n",
    "with open('./transcript/' + filename + '_VI.json', 'w', encoding='utf-8') as f:\n",
    "    json.dump(transcript, f, ensure_ascii=False, indent=4)\n",
    "\n",
    "transcript_list = YouTubeTranscriptApi.list_transcripts(row['video_id'])\n",
    "transcript = transcript_list.find_transcript(['vi'])\n",
    "translated_transcript = transcript.translate('en')\n",
    "with open('./transcript/' + filename + '_EN.json', 'w', encoding='utf-8') as f:\n",
    "    json.dump(translated_transcript.fetch(), f, ensure_ascii=False, indent=4)"
   ]
  }
 ],
 "metadata": {
  "kernelspec": {
   "display_name": "Python 3",
   "language": "python",
   "name": "python3"
  },
  "language_info": {
   "codemirror_mode": {
    "name": "ipython",
    "version": 3
   },
   "file_extension": ".py",
   "mimetype": "text/x-python",
   "name": "python",
   "nbconvert_exporter": "python",
   "pygments_lexer": "ipython3",
   "version": "3.11.9"
  }
 },
 "nbformat": 4,
 "nbformat_minor": 2
}
